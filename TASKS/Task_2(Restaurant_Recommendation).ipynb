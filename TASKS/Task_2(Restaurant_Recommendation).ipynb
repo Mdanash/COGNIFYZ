{
  "nbformat": 4,
  "nbformat_minor": 0,
  "metadata": {
    "colab": {
      "provenance": []
    },
    "kernelspec": {
      "name": "python3",
      "display_name": "Python 3"
    },
    "language_info": {
      "name": "python"
    }
  },
  "cells": [
    {
      "cell_type": "code",
      "execution_count": 2,
      "metadata": {
        "id": "DwMh3e9fUkal"
      },
      "outputs": [],
      "source": [
        "import pandas as pd\n",
        "from sklearn.feature_extraction.text import TfidfVectorizer\n",
        "from sklearn.metrics.pairwise import linear_kernel\n",
        "\n",
        "# Load the dataset\n",
        "file_path = '/content/Dataset .csv'\n",
        "dataset = pd.read_csv(file_path)\n",
        "\n",
        "# Fill missing values in the 'Cuisines' column with a placeholder\n",
        "dataset['Cuisines'].fillna('Unknown', inplace=True)\n",
        "\n",
        "# Select relevant features for the recommendation system\n",
        "relevant_features = dataset[['Restaurant Name', 'City', 'Cuisines', 'Average Cost for two', 'Price range', 'Aggregate rating', 'Votes']]"
      ]
    },
    {
      "cell_type": "code",
      "source": [
        "# Create a TF-IDF vectorizer for the 'Cuisines' feature\n",
        "tfidf_vectorizer = TfidfVectorizer(stop_words='english')\n",
        "tfidf_matrix = tfidf_vectorizer.fit_transform(relevant_features['Cuisines'])"
      ],
      "metadata": {
        "id": "JAf0Fd9HU2DW"
      },
      "execution_count": 3,
      "outputs": []
    },
    {
      "cell_type": "code",
      "source": [
        "# Compute the cosine similarity matrix based on the TF-IDF matrix\n",
        "cosine_sim = linear_kernel(tfidf_matrix, tfidf_matrix)"
      ],
      "metadata": {
        "id": "sRlc2ohDVG1j"
      },
      "execution_count": 4,
      "outputs": []
    },
    {
      "cell_type": "code",
      "source": [
        "# Function to get restaurant recommendations based on a given restaurant name\n",
        "def get_recommendations(restaurant_name, cosine_sim=cosine_sim):\n",
        "    # Get the index of the restaurant that matches the name\n",
        "    idx = relevant_features[relevant_features['Restaurant Name'] == restaurant_name].index[0]\n",
        "\n",
        "    # Get the pairwise similarity scores of all restaurants with that restaurant\n",
        "    sim_scores = list(enumerate(cosine_sim[idx]))\n",
        "\n",
        "    # Sort the restaurants based on the similarity scores\n",
        "    sim_scores = sorted(sim_scores, key=lambda x: x[1], reverse=True)\n",
        "\n",
        "    # Get the scores of the 10 most similar restaurants\n",
        "    sim_scores = sim_scores[1:11]\n",
        "\n",
        "    # Get the restaurant indices\n",
        "    restaurant_indices = [i[0] for i in sim_scores]\n",
        "\n",
        "    # Return the top 10 most similar restaurants\n",
        "    return relevant_features.iloc[restaurant_indices][['Restaurant Name', 'City', 'Cuisines', 'Aggregate rating', 'Votes']]"
      ],
      "metadata": {
        "id": "rMYpGy4DVI8S"
      },
      "execution_count": 5,
      "outputs": []
    },
    {
      "cell_type": "code",
      "source": [
        "# Example: recommendations for 'Le Petit Souffle'\n",
        "recommendations = get_recommendations('Le Petit Souffle')\n",
        "print(recommendations)"
      ],
      "metadata": {
        "colab": {
          "base_uri": "https://localhost:8080/"
        },
        "id": "rvVeAkriVLZm",
        "outputId": "6aa41fdc-507b-49f5-97b9-1c5e8fbdbdee"
      },
      "execution_count": 6,
      "outputs": [
        {
          "output_type": "stream",
          "name": "stdout",
          "text": [
            "                              Restaurant Name        City           Cuisines  \\\n",
            "4993                          Tokyo Mon Amour   New Delhi   Japanese, French   \n",
            "70                          Paris 6 Classique  S��o Paulo             French   \n",
            "259                                    Django  Des Moines             French   \n",
            "460                                      Jaan   Singapore             French   \n",
            "461                     Rhubarb Le Restaurant   Singapore             French   \n",
            "9384                 Restaurant Gordon Ramsay      London             French   \n",
            "9416  The French by Simon Rogan - The Midland  Manchester             French   \n",
            "9484           Restaurant Mosaic @ The Orient    Pretoria             French   \n",
            "22                                Chez Michou   Bras�_lia  Fast Food, French   \n",
            "3257                             Bonne Bouche   New Delhi    Italian, French   \n",
            "\n",
            "      Aggregate rating  Votes  \n",
            "4993               3.1     10  \n",
            "70                 3.4     73  \n",
            "259                4.3    532  \n",
            "460                3.8     35  \n",
            "461                3.9     33  \n",
            "9384               4.7    320  \n",
            "9416               4.3    114  \n",
            "9484               4.9     85  \n",
            "22                 3.0      6  \n",
            "3257               4.1    711  \n"
          ]
        }
      ]
    }
  ]
}